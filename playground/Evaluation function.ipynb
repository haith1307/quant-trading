{
 "cells": [
  {
   "cell_type": "code",
   "execution_count": 71,
   "id": "inclusive-authentication",
   "metadata": {},
   "outputs": [],
   "source": [
    "import numpy as np\n",
    "import pandas as pd\n",
    "import statistics as stats\n",
    "import math\n",
    "import matplotlib.pyplot as plt"
   ]
  },
  {
   "cell_type": "code",
   "execution_count": 3,
   "id": "social-wallpaper",
   "metadata": {},
   "outputs": [
    {
     "data": {
      "text/html": [
       "<div>\n",
       "<style scoped>\n",
       "    .dataframe tbody tr th:only-of-type {\n",
       "        vertical-align: middle;\n",
       "    }\n",
       "\n",
       "    .dataframe tbody tr th {\n",
       "        vertical-align: top;\n",
       "    }\n",
       "\n",
       "    .dataframe thead th {\n",
       "        text-align: right;\n",
       "    }\n",
       "</style>\n",
       "<table border=\"1\" class=\"dataframe\">\n",
       "  <thead>\n",
       "    <tr style=\"text-align: right;\">\n",
       "      <th></th>\n",
       "      <th>Date</th>\n",
       "      <th>Open</th>\n",
       "      <th>High</th>\n",
       "      <th>Low</th>\n",
       "      <th>Close</th>\n",
       "      <th>Adj Close</th>\n",
       "      <th>Volume</th>\n",
       "    </tr>\n",
       "  </thead>\n",
       "  <tbody>\n",
       "    <tr>\n",
       "      <th>0</th>\n",
       "      <td>2016-07-18</td>\n",
       "      <td>24.674999</td>\n",
       "      <td>25.032499</td>\n",
       "      <td>24.650000</td>\n",
       "      <td>24.957500</td>\n",
       "      <td>23.314920</td>\n",
       "      <td>145975600</td>\n",
       "    </tr>\n",
       "    <tr>\n",
       "      <th>1</th>\n",
       "      <td>2016-07-19</td>\n",
       "      <td>24.889999</td>\n",
       "      <td>25.000000</td>\n",
       "      <td>24.834999</td>\n",
       "      <td>24.967501</td>\n",
       "      <td>23.324263</td>\n",
       "      <td>95119600</td>\n",
       "    </tr>\n",
       "    <tr>\n",
       "      <th>2</th>\n",
       "      <td>2016-07-20</td>\n",
       "      <td>25.000000</td>\n",
       "      <td>25.115000</td>\n",
       "      <td>24.934999</td>\n",
       "      <td>24.990000</td>\n",
       "      <td>23.345284</td>\n",
       "      <td>105104000</td>\n",
       "    </tr>\n",
       "    <tr>\n",
       "      <th>3</th>\n",
       "      <td>2016-07-21</td>\n",
       "      <td>24.957500</td>\n",
       "      <td>25.250000</td>\n",
       "      <td>24.782499</td>\n",
       "      <td>24.857500</td>\n",
       "      <td>23.221504</td>\n",
       "      <td>130808000</td>\n",
       "    </tr>\n",
       "    <tr>\n",
       "      <th>4</th>\n",
       "      <td>2016-07-22</td>\n",
       "      <td>24.815001</td>\n",
       "      <td>24.825001</td>\n",
       "      <td>24.577499</td>\n",
       "      <td>24.665001</td>\n",
       "      <td>23.041672</td>\n",
       "      <td>113254800</td>\n",
       "    </tr>\n",
       "    <tr>\n",
       "      <th>...</th>\n",
       "      <td>...</td>\n",
       "      <td>...</td>\n",
       "      <td>...</td>\n",
       "      <td>...</td>\n",
       "      <td>...</td>\n",
       "      <td>...</td>\n",
       "      <td>...</td>\n",
       "    </tr>\n",
       "    <tr>\n",
       "      <th>1254</th>\n",
       "      <td>2021-07-12</td>\n",
       "      <td>146.210007</td>\n",
       "      <td>146.320007</td>\n",
       "      <td>144.000000</td>\n",
       "      <td>144.500000</td>\n",
       "      <td>144.500000</td>\n",
       "      <td>76299700</td>\n",
       "    </tr>\n",
       "    <tr>\n",
       "      <th>1255</th>\n",
       "      <td>2021-07-13</td>\n",
       "      <td>144.029999</td>\n",
       "      <td>147.460007</td>\n",
       "      <td>143.630005</td>\n",
       "      <td>145.639999</td>\n",
       "      <td>145.639999</td>\n",
       "      <td>100827100</td>\n",
       "    </tr>\n",
       "    <tr>\n",
       "      <th>1256</th>\n",
       "      <td>2021-07-14</td>\n",
       "      <td>148.100006</td>\n",
       "      <td>149.570007</td>\n",
       "      <td>147.679993</td>\n",
       "      <td>149.149994</td>\n",
       "      <td>149.149994</td>\n",
       "      <td>127050800</td>\n",
       "    </tr>\n",
       "    <tr>\n",
       "      <th>1257</th>\n",
       "      <td>2021-07-15</td>\n",
       "      <td>149.240005</td>\n",
       "      <td>150.000000</td>\n",
       "      <td>147.089996</td>\n",
       "      <td>148.479996</td>\n",
       "      <td>148.479996</td>\n",
       "      <td>106820300</td>\n",
       "    </tr>\n",
       "    <tr>\n",
       "      <th>1258</th>\n",
       "      <td>2021-07-16</td>\n",
       "      <td>148.460007</td>\n",
       "      <td>149.759995</td>\n",
       "      <td>145.880005</td>\n",
       "      <td>146.389999</td>\n",
       "      <td>146.389999</td>\n",
       "      <td>93100300</td>\n",
       "    </tr>\n",
       "  </tbody>\n",
       "</table>\n",
       "<p>1259 rows × 7 columns</p>\n",
       "</div>"
      ],
      "text/plain": [
       "            Date        Open        High         Low       Close   Adj Close  \\\n",
       "0     2016-07-18   24.674999   25.032499   24.650000   24.957500   23.314920   \n",
       "1     2016-07-19   24.889999   25.000000   24.834999   24.967501   23.324263   \n",
       "2     2016-07-20   25.000000   25.115000   24.934999   24.990000   23.345284   \n",
       "3     2016-07-21   24.957500   25.250000   24.782499   24.857500   23.221504   \n",
       "4     2016-07-22   24.815001   24.825001   24.577499   24.665001   23.041672   \n",
       "...          ...         ...         ...         ...         ...         ...   \n",
       "1254  2021-07-12  146.210007  146.320007  144.000000  144.500000  144.500000   \n",
       "1255  2021-07-13  144.029999  147.460007  143.630005  145.639999  145.639999   \n",
       "1256  2021-07-14  148.100006  149.570007  147.679993  149.149994  149.149994   \n",
       "1257  2021-07-15  149.240005  150.000000  147.089996  148.479996  148.479996   \n",
       "1258  2021-07-16  148.460007  149.759995  145.880005  146.389999  146.389999   \n",
       "\n",
       "         Volume  \n",
       "0     145975600  \n",
       "1      95119600  \n",
       "2     105104000  \n",
       "3     130808000  \n",
       "4     113254800  \n",
       "...         ...  \n",
       "1254   76299700  \n",
       "1255  100827100  \n",
       "1256  127050800  \n",
       "1257  106820300  \n",
       "1258   93100300  \n",
       "\n",
       "[1259 rows x 7 columns]"
      ]
     },
     "execution_count": 3,
     "metadata": {},
     "output_type": "execute_result"
    }
   ],
   "source": [
    "aapl_hist = pd.read_csv('AAPL.csv')\n",
    "aapl_hist"
   ]
  },
  {
   "cell_type": "markdown",
   "id": "literary-inflation",
   "metadata": {},
   "source": [
    "## Sharpe Ratio\n",
    "\n",
    "Sharpe ratio is the average return earned in excess of the risk-free rate per unit of volatility or total risk. Volatility is a measure of the price fluctuations of an asset or portfolio. The Sharpe ratio can help you determine the investment choice that will deliver the highest returns while considering risk."
   ]
  },
  {
   "cell_type": "code",
   "execution_count": 50,
   "id": "running-mumbai",
   "metadata": {},
   "outputs": [],
   "source": [
    "'''Function calculates Sharpe Ratio of an investing strategy. Function takes holding history, risk-free rate \n",
    "and investment duration as agruments. By default, invest duration is set to 0, which means that investment \n",
    "duration is should be the same as the holding period'''\n",
    "\n",
    "def sharpe_ratio(hold_hist, riskfree_rate, invest_dura = 0):\n",
    "    # if invest_dura == 0, find invest duration based on holding history\n",
    "    if invest_dura == 0:\n",
    "        invest_dura = len(hold_hist)\n",
    "        \n",
    "    excess_return = [0]\n",
    "    for i in range(len(hold_hist) - 1):\n",
    "        today_price = float(hold_hist.at[i+1, 'Close'])\n",
    "        yesterday_price = float(aapl_hist.at[i, 'Close'])\n",
    "        ret = (today_price - yesterday_price)/yesterday_price\n",
    "    \n",
    "        # append to excess return list\n",
    "        excess_return.append(ret - riskfree_rate/invest_dura) \n",
    "    \n",
    "    mean = stats.mean(excess_return)\n",
    "    std = stats.stdev(excess_return)\n",
    "    \n",
    "    sharpe = mean/std*math.sqrt(invest_dura)\n",
    "    print('Sharpe Ratio:',sharpe)\n",
    "    return sharpe"
   ]
  },
  {
   "cell_type": "code",
   "execution_count": 51,
   "id": "harmful-internship",
   "metadata": {},
   "outputs": [
    {
     "name": "stdout",
     "output_type": "stream",
     "text": [
      "Sharpe Ratio: 2.954467336345958\n"
     ]
    },
    {
     "data": {
      "text/plain": [
       "2.954467336345958"
      ]
     },
     "execution_count": 51,
     "metadata": {},
     "output_type": "execute_result"
    }
   ],
   "source": [
    "sharpe_ratio(aapl_hist, 0)"
   ]
  },
  {
   "cell_type": "markdown",
   "id": "assured-remains",
   "metadata": {},
   "source": [
    "## Maximum Drawdown\n",
    "\n",
    "A maximum drawdown (MDD) is the maximum observed loss from a peak to a trough of a portfolio, before a new peak is attained. Maximum drawdown is an indicator of downside risk over a specified time period."
   ]
  },
  {
   "cell_type": "code",
   "execution_count": 99,
   "id": "pointed-parking",
   "metadata": {},
   "outputs": [],
   "source": [
    "'''Function calculates Maximum Drawdown and Maximum Drawdown Duration of an investing strategy. Function takes\n",
    "holding history as its only input agrument and returns MDD and MDD duration'''\n",
    "\n",
    "def mdd(hold_hist):\n",
    "    mdd = 0\n",
    "    curr_mdd = 0\n",
    "    mdd_duration = 0\n",
    "    curr_mdd_duration = 0\n",
    "\n",
    "    curr_trough = hold_hist.at[0,'Close'] \n",
    "    curr_peak = hold_hist.at[0,'Close']    \n",
    "    curr_peak_date = ''\n",
    "    curr_trough_date = ''\n",
    "    final_peak_date = ''\n",
    "    final_trough_date = ''\n",
    "    \n",
    "    final_peak_value = 0\n",
    "    final_trough_value = 0\n",
    "    \n",
    "    for i in range(len(hold_hist)):\n",
    "        # set new peak if current price higher than current peak and calculate current mdd\n",
    "        if hold_hist.at[i,'Close'] > curr_peak:\n",
    "            curr_mdd = (curr_trough - curr_peak)/curr_peak\n",
    "            if curr_mdd_duration > mdd_duration:\n",
    "                mdd_duration = curr_mdd_duration\n",
    "                final_peak_date = curr_peak_date\n",
    "                final_trough_date = curr_trough_date\n",
    "            curr_mdd_duration = 0\n",
    "\n",
    "            # if current mdd smaller than overall mdd, set new minimum mdd\n",
    "            if curr_mdd < mdd:\n",
    "                mdd = curr_mdd\n",
    "                final_peak_value = curr_peak\n",
    "                final_trough_value = curr_trough\n",
    "            \n",
    "            curr_peak = hold_hist.at[i,'Close']\n",
    "            curr_peak_date = hold_hist.at[i,'Date']\n",
    "            curr_trough = hold_hist.at[i,'Close']\n",
    "            curr_trough_date = hold_hist.at[i,'Date']\n",
    "                \n",
    "        # set new trough if current price lower than current trough\n",
    "        elif hold_hist.at[i,'Close'] <= curr_trough:\n",
    "            curr_trough = hold_hist.at[i,'Close']\n",
    "            curr_trough_date = hold_hist.at[i,'Date']\n",
    "\n",
    "            curr_mdd_duration += 1\n",
    "        else:\n",
    "            curr_mdd_duration += 1\n",
    "\n",
    "    print(f'MDD: {mdd*100}% \\t resulting from {final_peak_value} to {final_trough_value}')\n",
    "    print(f'MDD Duration: {mdd_duration} business days \\t from {final_peak_date} to {final_trough_date}')\n",
    "\n",
    "    return mdd, mdd_duration"
   ]
  },
  {
   "cell_type": "code",
   "execution_count": 100,
   "id": "consecutive-motor",
   "metadata": {},
   "outputs": [
    {
     "name": "stdout",
     "output_type": "stream",
     "text": [
      "MDD: -38.729694015436934% \t resulting from 58.017502 to 35.547501\n",
      "MDD Duration: 256 business days \t from 2018-10-03 to 2019-01-03\n"
     ]
    },
    {
     "data": {
      "text/plain": [
       "(-0.38729694015436933, 256)"
      ]
     },
     "execution_count": 100,
     "metadata": {},
     "output_type": "execute_result"
    }
   ],
   "source": [
    "mdd(aapl_hist)"
   ]
  },
  {
   "cell_type": "code",
   "execution_count": 81,
   "id": "pursuant-dancing",
   "metadata": {},
   "outputs": [
    {
     "data": {
      "image/png": "[encoded data removed]",
      "text/plain": [
       "<Figure size 432x288 with 1 Axes>"
      ]
     },
     "metadata": {
      "needs_background": "light"
     },
     "output_type": "display_data"
    }
   ],
   "source": [
    "plt.plot(aapl_hist.loc[:,'Close'])\n",
    "plt.ylabel('Stock Price')\n",
    "plt.title('AAPL Stock Chart')\n",
    "plt.xlabel('Business days')\n",
    "\n",
    "plt.show()"
   ]
  },
  {
   "cell_type": "code",
   "execution_count": null,
   "id": "varying-reminder",
   "metadata": {},
   "outputs": [],
   "source": []
  }
 ],
 "metadata": {
  "kernelspec": {
   "display_name": "Python 3",
   "language": "python",
   "name": "python3"
  },
  "language_info": {
   "codemirror_mode": {
    "name": "ipython",
    "version": 3
   },
   "file_extension": ".py",
   "mimetype": "text/x-python",
   "name": "python",
   "nbconvert_exporter": "python",
   "pygments_lexer": "ipython3",
   "version": "3.8.3"
  }
 },
 "nbformat": 4,
 "nbformat_minor": 5
}
